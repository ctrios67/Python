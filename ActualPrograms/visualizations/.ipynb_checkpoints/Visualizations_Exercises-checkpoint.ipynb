{
 "cells": [
  {
   "cell_type": "code",
   "execution_count": 2,
   "metadata": {
    "collapsed": false,
    "deletable": true,
    "editable": true
   },
   "outputs": [
    {
     "name": "stderr",
     "output_type": "stream",
     "text": [
      "/usr/local/lib/python3.6/site-packages/bokeh/util/deprecation.py:34: BokehDeprecationWarning: Plot.logo was deprecated in Bokeh 0.12.0 and will be removed, use Plot.toolbar.logo instead.\n",
      "  warn(message)\n"
     ]
    }
   ],
   "source": [
    "# For application developers, Hardest to work with, low level\n",
    "#bokeh.models\n",
    "# For mid-level people, customization, will be our focus\n",
    "#bokeh.plotting\n",
    "# For high-level interface\n",
    "#bokeh.charts\n",
    "import pandas\n",
    "from bokeh.charts import Scatter, output_file, show\n",
    "\n",
    "df = pandas.DataFrame(columns=['X', 'Y'])\n",
    "df['X']=[1, 2, 3, 4, 5]\n",
    "df['Y']=[5, 4, 3, 2, 1]\n",
    "\n",
    "p = Scatter(df, x='X', y='Y', title='Temperature Observations', xlabel='Days of Observations', ylabel='Temperature',\n",
    "           tools='', logo=None)\n",
    "\n",
    "# The tools parameter here gets rid of the tools that are generated with the HTML file on the outside\n",
    "output_file('Scatter_charts.html')\n",
    "\n",
    "show(p)"
   ]
  },
  {
   "cell_type": "code",
   "execution_count": 7,
   "metadata": {
    "collapsed": false,
    "deletable": true,
    "editable": true
   },
   "outputs": [
    {
     "name": "stderr",
     "output_type": "stream",
     "text": [
      "INFO:bokeh.core.state:Session output file 'Scatter_plotting.html' already exists, will be overwritten.\n"
     ]
    }
   ],
   "source": [
    "from bokeh.plotting import figure, output_file, show\n",
    "# The idea is you create a figure object, then you add a line* glyph or circle* glyph\n",
    "\n",
    "p = figure(plot_width=500, plot_height=500)\n",
    "\n",
    "# Here is an example of accessing a variable's attribtues\n",
    "p.title.text = '\"Dique\" Earthquakes'\n",
    "p.title.text_color = 'Orange'\n",
    "p.title.text_font = 'times'\n",
    "p.title.text_font_style = 'italic'\n",
    "\n",
    "p.yaxis.minor_tick_line_color = None\n",
    "p.xaxis.axis_label = 'Thing'\n",
    "p.yaxis.axis_label = 'Some'\n",
    "#help(p)\n",
    "\n",
    "#p.triangle([1, 2, 3, 4, 5], [5, 4, 3, 2, 1], size=5, color='red', alpha=0.5)\n",
    "# It is very simple to have multiple glyphs in one graph.\n",
    "p.line([1, 2, 3, 4, 5], [5, 4, 3, 2, 1], line_width=2, color='red', alpha=0.5)\n",
    "p.circle([1, 2, 3, 4, 5], [5, 4, 3, 2, 1], size=[i*2 for i in [8, 12, 14, 16, 20]], color='olive', alpha=0.5)\n",
    "output_file('Scatter_plotting.html', mode='cdn')\n",
    "# Mode here can be cdn, relative, absoulute, or inline.\n",
    "# cdn is on a remote server (content delivery network), relative is relative path to bokeh library,\n",
    "# absolute shows the absolute path to that css & JS file, and inline is inside that HTML file that is generated.\n",
    "show(p)"
   ]
  },
  {
   "cell_type": "code",
   "execution_count": 35,
   "metadata": {
    "collapsed": false,
    "deletable": true,
    "editable": true
   },
   "outputs": [
    {
     "name": "stderr",
     "output_type": "stream",
     "text": [
      "INFO:bokeh.core.state:Session output file 'TempPressScatter.html' already exists, will be overwritten.\n"
     ]
    }
   ],
   "source": [
    "from bokeh.plotting import figure, output_file, show\n",
    "\n",
    "xlsx = pandas.read_excel('http://pythonhow.com/verlegenhuken.xlsx')\n",
    "plot = figure(plot_width=500, plot_height=400, tools='pan,resize')\n",
    "\n",
    "plot.title.text = 'Temperature and Air Pressure'\n",
    "plot.xaxis.minor_tick_line_color = None\n",
    "plot.xaxis.axis_label = 'Temperature (C)'\n",
    "plot.yaxis.minor_tick_line_color = None\n",
    "plot.yaxis.axis_label = 'Pressure (hPa)'\n",
    "\n",
    "plot.circle(xlsx['Temperature']/10, xlsx['Pressure']/10, size=1, color='blue')\n",
    "output_file('TempPressScatter.html')\n",
    "show(plot)"
   ]
  },
  {
   "cell_type": "code",
   "execution_count": 6,
   "metadata": {
    "collapsed": false
   },
   "outputs": [
    {
     "name": "stderr",
     "output_type": "stream",
     "text": [
      "INFO:bokeh.core.state:Session output file 'Time_Series.html' already exists, will be overwritten.\n"
     ]
    }
   ],
   "source": [
    "from bokeh.plotting import figure, output_file, show\n",
    "import pandas\n",
    "\n",
    "csv = pandas.read_csv('http://ichart.yahoo.com/table.csv?s=AAPL&a=0&b=1&c=2000&d=0&e=1&f=2010', parse_dates=['Date'])\n",
    "plot2 = figure(plot_width=500, plot_height=250, x_axis_type='datetime', responsive=True)\n",
    "# Responsive means exactly as it should to a web developer\n",
    "\n",
    "plot2.line(csv['Date'], csv['Close'], color='Orange', alpha=0.5)\n",
    "\n",
    "output_file('Time_Series.html')\n",
    "show(plot2)\n"
   ]
  }
 ],
 "metadata": {
  "kernelspec": {
   "display_name": "Python 3",
   "language": "python",
   "name": "python3"
  },
  "language_info": {
   "codemirror_mode": {
    "name": "ipython",
    "version": 3
   },
   "file_extension": ".py",
   "mimetype": "text/x-python",
   "name": "python",
   "nbconvert_exporter": "python",
   "pygments_lexer": "ipython3",
   "version": "3.6.1"
  }
 },
 "nbformat": 4,
 "nbformat_minor": 2
}
